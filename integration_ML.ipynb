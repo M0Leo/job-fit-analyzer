{
  "nbformat": 4,
  "nbformat_minor": 0,
  "metadata": {
    "colab": {
      "provenance": [],
      "authorship_tag": "ABX9TyNGM/XbOMFcaBnIXjGTcGZv",
      "include_colab_link": true
    },
    "kernelspec": {
      "name": "python3",
      "display_name": "Python 3"
    },
    "language_info": {
      "name": "python"
    }
  },
  "cells": [
    {
      "cell_type": "markdown",
      "metadata": {
        "id": "view-in-github",
        "colab_type": "text"
      },
      "source": [
        "<a href=\"https://colab.research.google.com/github/M0Leo/job-fit-analyzer/blob/flask/integration_ML.ipynb\" target=\"_parent\"><img src=\"https://colab.research.google.com/assets/colab-badge.svg\" alt=\"Open In Colab\"/></a>"
      ]
    },
    {
      "cell_type": "code",
      "execution_count": null,
      "metadata": {
        "id": "r5vr4ARHURZ2"
      },
      "outputs": [],
      "source": [
        "from flask import Flask, request, jsonify\n",
        "from sklearn.feature_extraction.text import TfidfVectorizer\n",
        "from sklearn.ensemble import RandomForestClassifier\n",
        "import numpy as np\n",
        "import pandas as pd\n"
      ]
    },
    {
      "cell_type": "code",
      "source": [
        "app = Flask(\"Content_Based_System\")"
      ],
      "metadata": {
        "id": "zY1fH937UYI1"
      },
      "execution_count": null,
      "outputs": []
    },
    {
      "cell_type": "code",
      "source": [
        "model_title = RandomForestClassifier(random_state=40)\n",
        "model_location = RandomForestClassifier(random_state=42)\n",
        "tfidf = TfidfVectorizer()"
      ],
      "metadata": {
        "id": "Tz8snQV_UYLn"
      },
      "execution_count": null,
      "outputs": []
    },
    {
      "cell_type": "code",
      "source": [
        "file_path = 'jobss.csv'\n",
        "jobs_data = pd.read_csv(file_path)\n",
        "jobs_data.dropna(subset=['Job Title'], inplace=True)\n"
      ],
      "metadata": {
        "id": "asnOIB7HV2IC"
      },
      "execution_count": null,
      "outputs": []
    },
    {
      "cell_type": "code",
      "source": [
        "X = tfidf.fit_transform(jobs_data['Key Skills'].astype(str))\n"
      ],
      "metadata": {
        "id": "F-rCzB1kWegR"
      },
      "execution_count": null,
      "outputs": []
    },
    {
      "cell_type": "code",
      "source": [
        "y_title = jobs_data['Job Title']\n",
        "model_title.fit(X, y_title)"
      ],
      "metadata": {
        "id": "xUhMo_2CWksD"
      },
      "execution_count": null,
      "outputs": []
    },
    {
      "cell_type": "code",
      "source": [
        "y_location = jobs_data['Location']\n",
        "model_location.fit(X, y_location)"
      ],
      "metadata": {
        "id": "4Wcb-npcWkus"
      },
      "execution_count": null,
      "outputs": []
    },
    {
      "cell_type": "code",
      "source": [
        "@app.route('/predict', methods=['POST'])\n",
        "def predict_job_title_and_location():\n",
        "    data = request.get_json()\n",
        "    skills = data['skills']\n",
        "    top_n = data.get('top_n', 5)\n",
        "    relevance_threshold = data.get('relevance_threshold', 0.08)\n",
        "\n",
        "    skills_transformed = tfidf.transform([skills.lower()])\n",
        "\n",
        "    probs_title = model_title.predict_proba(skills_transformed)[0]\n",
        "    top_n_indices_title = np.argsort(probs_title)[-top_n:]\n",
        "    top_n_probs_title = probs_title[top_n_indices_title]\n",
        "    relevant_titles = [model_title.classes_[i] for i, prob in zip(top_n_indices_title, top_n_probs_title) if prob >= relevance_threshold]\n",
        "\n",
        "    predicted_title = np.random.choice(relevant_titles) if relevant_titles else 'No relevant title found'\n",
        "\n",
        "    probs_location = model_location.predict_proba(skills_transformed)[0]\n",
        "    top_n_indices_location = np.argsort(probs_location)[-top_n:]\n",
        "    predicted_location = np.random.choice([model_location.classes_[i] for i in top_n_indices_location])\n",
        "\n",
        "    return jsonify({\n",
        "        'predicted_title': predicted_title,\n",
        "        'predicted_location': predicted_location\n",
        "    })"
      ],
      "metadata": {
        "id": "yuiI6yVjWkw2"
      },
      "execution_count": null,
      "outputs": []
    },
    {
      "cell_type": "code",
      "source": [
        "if __name__ == '__main__':\n",
        "    app.run(debug=True)\n"
      ],
      "metadata": {
        "id": "yJPfOuKaUYOD",
        "colab": {
          "base_uri": "https://localhost:8080/"
        },
        "outputId": "2f134c26-6140-48d7-b177-746c1178db07"
      },
      "execution_count": null,
      "outputs": [
        {
          "metadata": {
            "tags": null
          },
          "name": "stdout",
          "output_type": "stream",
          "text": [
            " * Serving Flask app 'Content_Based_System'\n",
            " * Debug mode: on\n"
          ]
        },
        {
          "metadata": {
            "tags": null
          },
          "name": "stderr",
          "output_type": "stream",
          "text": [
            "INFO:werkzeug:\u001b[31m\u001b[1mWARNING: This is a development server. Do not use it in a production deployment. Use a production WSGI server instead.\u001b[0m\n",
            " * Running on http://127.0.0.1:5000\n",
            "INFO:werkzeug:\u001b[33mPress CTRL+C to quit\u001b[0m\n",
            "INFO:werkzeug: * Restarting with stat\n"
          ]
        }
      ]
    }
  ]
}